{
 "cells": [
  {
   "cell_type": "code",
   "execution_count": 4,
   "id": "8fc88b30-2976-42d1-b565-ff06899e2bfe",
   "metadata": {},
   "outputs": [
    {
     "name": "stdout",
     "output_type": "stream",
     "text": [
      "Percentage of restaurants offering table booking: 12.12%\n",
      "Percentage of restaurants offering online delivery: 25.66%\n",
      "Average rating of restaurants with table booking: 3.44\n",
      "Average rating of restaurants without table booking: 2.56\n",
      "Percentage of restaurants offering online delivery by price range:\n",
      "Price range\n",
      "1    15.774077\n",
      "2    41.310633\n",
      "3    29.190341\n",
      "4     9.044369\n",
      "Name: online_delivery, dtype: float64\n"
     ]
    }
   ],
   "source": [
    "import pandas as pd\n",
    "\n",
    "# Load the dataset\n",
    "df = pd.read_csv('Dataset  (2).csv')  \n",
    "\n",
    "# Define columns\n",
    "price_range_col = 'Price range' \n",
    "tablebooking_col = 'Has Table booking'              \n",
    "online_delivery_col = 'Has Online delivery'\n",
    "\n",
    "# Convert 'Yes'/'No' to boolean\n",
    "df['table_booking'] = df[tablebooking_col] == 'Yes'\n",
    "df['online_delivery'] = df[online_delivery_col] == 'Yes'\n",
    "\n",
    "# 1. Percentage of Restaurants Offering Table Booking and Online Delivery\n",
    "total_restaurants = len(df)\n",
    "table_booking_count = df['table_booking'].sum()\n",
    "online_delivery_count = df['online_delivery'].sum()\n",
    "\n",
    "percentage_table_booking = (table_booking_count / total_restaurants) * 100\n",
    "percentage_online_delivery = (online_delivery_count / total_restaurants) * 100\n",
    "\n",
    "print(f\"Percentage of restaurants offering table booking: {percentage_table_booking:.2f}%\")\n",
    "print(f\"Percentage of restaurants offering online delivery: {percentage_online_delivery:.2f}%\")\n",
    "\n",
    "# 2. Compare Average Ratings\n",
    "avg_rating_with_booking = df[df['table_booking']]['Aggregate rating'].mean()\n",
    "avg_rating_without_booking = df[~df['table_booking']]['Aggregate rating'].mean()\n",
    "\n",
    "print(f\"Average rating of restaurants with table booking: {avg_rating_with_booking:.2f}\")\n",
    "print(f\"Average rating of restaurants without table booking: {avg_rating_without_booking:.2f}\")\n",
    "\n",
    "# 3. Analyze Availability of Online Delivery by Price Range\n",
    "online_delivery_by_price = df.groupby(price_range_col)['online_delivery'].mean() * 100\n",
    "\n",
    "print(\"Percentage of restaurants offering online delivery by price range:\")\n",
    "print(online_delivery_by_price)\n"
   ]
  }
 ],
 "metadata": {
  "kernelspec": {
   "display_name": "Python 3 (ipykernel)",
   "language": "python",
   "name": "python3"
  },
  "language_info": {
   "codemirror_mode": {
    "name": "ipython",
    "version": 3
   },
   "file_extension": ".py",
   "mimetype": "text/x-python",
   "name": "python",
   "nbconvert_exporter": "python",
   "pygments_lexer": "ipython3",
   "version": "3.11.5"
  }
 },
 "nbformat": 4,
 "nbformat_minor": 5
}
