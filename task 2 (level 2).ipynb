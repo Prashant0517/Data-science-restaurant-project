{
 "cells": [
  {
   "cell_type": "code",
   "execution_count": 4,
   "id": "9e7ca1d6-6c85-4573-b7ab-410f5a3d0da0",
   "metadata": {},
   "outputs": [
    {
     "name": "stdout",
     "output_type": "stream",
     "text": [
      "Most common price range: 1\n",
      "Average rating for each price range:\n",
      "Price range\n",
      "1    1.999887\n",
      "2    2.941054\n",
      "3    3.683381\n",
      "4    3.817918\n",
      "Name: Aggregate rating, dtype: float64\n",
      "Color with the highest average rating among different price ranges: Green\n"
     ]
    }
   ],
   "source": [
    "import pandas as pd\n",
    "\n",
    "# Load the dataset\n",
    "df = pd.read_csv('Dataset  (2).csv')  \n",
    "\n",
    "price_range_col = 'Price range' \n",
    "rating_col = 'Aggregate rating'              \n",
    "color_col = 'Rating color'                \n",
    "\n",
    "# Step 1: Determine the most common price range\n",
    "most_common_price_range = df[price_range_col].mode()[0]\n",
    "\n",
    "# Step 2: Calculate average rating for each price range\n",
    "average_ratings = df.groupby(price_range_col)[rating_col].mean()\n",
    "\n",
    "# Step 3: Identify the color with the highest average rating\n",
    "highest_avg_rating_price_range = average_ratings.idxmax()\n",
    "\n",
    "# Get the corresponding color for the price range with the highest average rating\n",
    "color_highest_avg_rating = df.loc[df[price_range_col] == highest_avg_rating_price_range, color_col].iloc[0]\n",
    "\n",
    "# Print the results\n",
    "print(f\"Most common price range: {most_common_price_range}\")\n",
    "print(\"Average rating for each price range:\")\n",
    "print(average_ratings)\n",
    "print(f\"Color with the highest average rating among different price ranges: {color_highest_avg_rating}\")\n"
   ]
  },
  {
   "cell_type": "code",
   "execution_count": null,
   "id": "8cadcd5a-7eea-44d0-8774-5aa29ee3e330",
   "metadata": {},
   "outputs": [],
   "source": []
  }
 ],
 "metadata": {
  "kernelspec": {
   "display_name": "Python 3 (ipykernel)",
   "language": "python",
   "name": "python3"
  },
  "language_info": {
   "codemirror_mode": {
    "name": "ipython",
    "version": 3
   },
   "file_extension": ".py",
   "mimetype": "text/x-python",
   "name": "python",
   "nbconvert_exporter": "python",
   "pygments_lexer": "ipython3",
   "version": "3.11.5"
  }
 },
 "nbformat": 4,
 "nbformat_minor": 5
}
